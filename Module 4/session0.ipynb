{
 "cells": [
  {
   "attachments": {},
   "cell_type": "markdown",
   "metadata": {},
   "source": [
    "# Azure the Big Picture"
   ]
  },
  {
   "attachments": {},
   "cell_type": "markdown",
   "metadata": {},
   "source": [
    "Data Storage ---> blob & ADSL gen 2 are important  \n",
    "**Why ADSL is good ver blob?**\n",
    "- Folder wise hirearchical information\n",
    "- Optimized for analytical workload\n",
    "- ACL(Access Control Levels) permission --> so better security\n",
    "- Object store (S3 is also an object store)\n",
    "\n",
    "**Components of Azure Data**\n",
    "- Data lake gen2\n",
    "- Azure Data Factory\n",
    "- Azure Synapse analytics\n",
    "- Azure Databricks\n",
    "- HDInsights\n"
   ]
  },
  {
   "attachments": {},
   "cell_type": "markdown",
   "metadata": {},
   "source": [
    "You have different sources of data:\n",
    "- RDBMS\n",
    "- Blob storage or S3\n",
    "- Website\n",
    "Your task is to create\n",
    "1. You have to build a data platform for you DataScience team\n",
    "2. You have to create a platform for visulaization or for your Data Analytics team --> Adhock queries\n",
    "\n",
    "**Solution steps:**\n",
    "1. How to get data into Azure?\n",
    "    - Ingest (Azure data factory)\n",
    "2. Process (Databricks) / HDInsights / Data Flow (basic transformation)  \n",
    "\n",
    "**Flow for DataScience solution:**  \n",
    "source --> ADF --> Data Flow (optional with simple transformation) --> synapse/databricks/HDInsight --> blob or datalae (ADSL gen2)   \n",
    "why to choose blob over ADSL gen 2 --> blobs are cheaper --> so to store machine learning or data science output\n",
    "\n",
    "**Flow of Analytics solution**  \n",
    "source --> ADF --> Data Flow (optional simple transformation) --> processing using synapse/databricks/HDInsights --> save in below\n",
    "- Azure SQL database -- i.e. RDBMS\n",
    "- Azure Synapse Analytics -- Data warehouse\n",
    "- Connect to PowerBI or Tablue"
   ]
  },
  {
   "attachments": {},
   "cell_type": "markdown",
   "metadata": {},
   "source": [
    "**Intro to Azure Data Factory:**\n",
    "1. To transfer the data from source to sink\n",
    "2. In case of Sqoop it has to be only RDBMS as a source\n",
    "    - For e.g. blob --> adsl gen2\n",
    "    - RDBMS --> adsl gen2\n",
    "    - adsl gen2 --> RDBMS\n",
    "3. Transformation -- basic transformation you can write\n",
    "   1. data Flow --> do not write any code --> graphical coding\n",
    "   2. Complex transformations are not supported\n",
    "   3. Azure translates it to Spark code internally\n",
    "4. Orchestration --> very similar to Apache Airflow\n",
    "5. Managed & serverless service by Azure\n",
    "6. Pipeline can be triggered or schedules using Azure Data Factory\n",
    "\n",
    "How it works:  \n",
    "source --> Ingest --> Transformation  \n",
    "source --> Azure Dat Factory --> Data Flow / HDInsight / Databricks  \n",
    "\n",
    "What is Azure Synapse Analytics?\n",
    "Under the hood uses Spark and SQLl servers\n",
    "\n",
    "What is HDInsight?  \n",
    "Managed Hadoop cluster on Azure --> Hive spaek, pig --> **Hortanworks Cluster** --> **AWS EMR or Google DATAPROC** equivalent\n",
    "\n",
    "What is Databricks?  \n",
    "Specifically for spark --> very much optimized"
   ]
  },
  {
   "cell_type": "markdown",
   "metadata": {},
   "source": []
  }
 ],
 "metadata": {
  "language_info": {
   "name": "python"
  },
  "orig_nbformat": 4
 },
 "nbformat": 4,
 "nbformat_minor": 2
}
