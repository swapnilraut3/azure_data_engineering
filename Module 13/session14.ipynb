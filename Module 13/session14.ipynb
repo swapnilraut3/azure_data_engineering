{
 "cells": [
  {
   "attachments": {},
   "cell_type": "markdown",
   "metadata": {},
   "source": [
    "# Databricks notebook source\n",
    "# Module 13: Azure Databricks Part 3\n",
    "## Session 14: Ways to mount storage\n",
    "3 Ways to access storage account:  \n",
    "1. Acces Key / Account Key  --> Access to your complete storage account (not at good for production scenarios)\n",
    "2. SAS Key: Shared access signature --> container level access\n",
    "3. Service Principal: Fine grain control till folder level\n"
   ]
  },
  {
   "cell_type": "markdown",
   "metadata": {},
   "source": []
  }
 ],
 "metadata": {
  "language_info": {
   "name": "python"
  },
  "orig_nbformat": 4
 },
 "nbformat": 4,
 "nbformat_minor": 2
}
